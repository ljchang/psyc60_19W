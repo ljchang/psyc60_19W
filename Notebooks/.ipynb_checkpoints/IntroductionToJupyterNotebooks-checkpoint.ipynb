{
 "cells": [
  {
   "cell_type": "markdown",
   "metadata": {},
   "source": [
    "# Introduction to Jupyter Notebooks\n",
    "\n",
    "Jupyter notebooks are a great way to have your code and programs then have results showup inline in a web browser. Work for this class will be done in Jupyter notebooks so you can reference what you have done, see the results and someone else could redo it in the future, similar to a typical lab notebook.\n",
    "\n",
    "Rather than writing and re-writing an entire program, you can write lines of code and run them one at a time. Then, if you need to make a change, you can go back and make your edit and rerun the program again, all in the same window. In our specific case, we are going to use [jupyterhub](https://jupyterhub.readthedocs.io/en/stable/) which lets several people access the same computer and data at the same time through a web browser. \n",
    "\n",
    "Finally, you can view examples and share your work with the world very easily through [nbviewer](https://nbviewer.jupyter.org)."
   ]
  },
  {
   "cell_type": "markdown",
   "metadata": {},
   "source": [
    "## Using Jupyter Notebooks on a server hosted by Dartmouth\n",
    "\n",
    "If you use [our server](https://jupyter.dartmouth.edu/) then all analyses you run will be performed on a server deep in the basement of a building on campus. This is great because you can start an analysis and let it run, checking in on the the results later by reconnecting to the server and opening the notebook you were running. The downside of this setup is that you will be sharing processing power with others, which may lead to some forced coffee breaks.\n",
    "\n",
    "[Our server](https://jupyter.dartmouth.edu/)\n",
    "\n",
    "Log in with your DID and it should bring you to your home dartfs space."
   ]
  },
  {
   "cell_type": "markdown",
   "metadata": {},
   "source": [
    "## Once you have logged in\n",
    "You should see something like this:\n",
    "\n",
    "<img src=\"Images/JupyterHub.png\"></img>\n",
    "\n",
    "although you will likely not have much in there unless you have used your dartfs space before.\n",
    "\n"
   ]
  },
  {
   "cell_type": "markdown",
   "metadata": {},
   "source": [
    "## Connecting to Psych60 lab space from within Jupyterhub\n",
    "Click on New, then Terminal\n",
    "<img src=\"Images/NewTerminal.png\"></img>\n",
    "\n",
    "You now should have something that looks like this:\n",
    "<img src=\"Images/Terminal.png\"></img>\n",
    "\n",
    "Type `pwd` and keep track of this somewhere. This is the path to your home directory.\n",
    "\n",
    "Next type"
   ]
  },
  {
   "cell_type": "code",
   "execution_count": 2,
   "metadata": {},
   "outputs": [
    {
     "ename": "NameError",
     "evalue": "name 'ln' is not defined",
     "output_type": "error",
     "traceback": [
      "\u001b[0;31m---------------------------------------------------------------------------\u001b[0m",
      "\u001b[0;31mNameError\u001b[0m                                 Traceback (most recent call last)",
      "\u001b[0;32m<ipython-input-2-672460035cf8>\u001b[0m in \u001b[0;36m<module>\u001b[0;34m()\u001b[0m\n\u001b[0;32m----> 1\u001b[0;31m \u001b[0mln\u001b[0m \u001b[0;34m-\u001b[0m\u001b[0ms\u001b[0m \u001b[0;34m/\u001b[0m\u001b[0mdartfs\u001b[0m\u001b[0;34m/\u001b[0m\u001b[0mrc\u001b[0m\u001b[0;34m/\u001b[0m\u001b[0mlab\u001b[0m\u001b[0;34m/\u001b[0m\u001b[0mP\u001b[0m\u001b[0;34m/\u001b[0m\u001b[0mPsych60\u001b[0m \u001b[0;34m/\u001b[0m\u001b[0mdartfs\u001b[0m\u001b[0;34m-\u001b[0m\u001b[0mhpc\u001b[0m\u001b[0;34m/\u001b[0m\u001b[0mrc\u001b[0m\u001b[0;34m/\u001b[0m\u001b[0mhome\u001b[0m\u001b[0;34m/\u001b[0m\u001b[0myourletter\u001b[0m\u001b[0;34m/\u001b[0m\u001b[0myourDID\u001b[0m\u001b[0;34m/\u001b[0m\u001b[0mPsych60\u001b[0m\u001b[0;34m\u001b[0m\u001b[0m\n\u001b[0m",
      "\u001b[0;31mNameError\u001b[0m: name 'ln' is not defined"
     ]
    }
   ],
   "source": [
    "ln -s /dartfs/rc/lab/P/Psych60 /dartfs-hpc/rc/home/yourletter/yourDID/Psych60"
   ]
  },
  {
   "cell_type": "markdown",
   "metadata": {},
   "source": [
    "Now type `ls -alF`\n",
    "You should see a link that looks like this:\n",
    "<img src=\"Images/Softlink.png\"></img>\n",
    "\n"
   ]
  },
  {
   "cell_type": "markdown",
   "metadata": {},
   "source": [
    "Close this terminal and go back to [our server](https://jupyter.dartmouth.edu/)\n",
    "\n",
    "You should see a Psych60 link under the `Files` tab. If you click on it you **should** be brought to the data and tutorial folder.\n",
    "<img src=\"Images/Psych60Dir.png\"></img>\n",
    "\n",
    "You will find a variety of tutorial notebooks in here along with data that we will use for our first few labs."
   ]
  },
  {
   "cell_type": "markdown",
   "metadata": {},
   "source": [
    "# Alternative\n",
    "\n",
    "If you use jupyter notebooks on your own computer then you own computer will be doing the processing. If you put your computer to sleep then processing will stop. It will also likely slow down other programs you are using on your computer. I would recommend installing it on your own computer so you can learn more about how to use it, or if you are interested in tinkering with the software or you happen to have a particularly fast/newer computer.\n",
    "\n",
    "## Installing Jupyter Notebooks on your own computer\n",
    "\n",
    "1. Install python (I recommend [Acaconda](https://www.continuum.io/downloads))\n",
    "\n",
    "2. Install jupyter notebook\n",
    "```\n",
    "pip3 install jupyter\n",
    "```\n",
    "\n",
    "Alternative: If you already have python installed:\n",
    "\n",
    "```\n",
    "pip3 install --upgrade pip\n",
    "```\n",
    "\n",
    "```\n",
    "pip3 install jupyter\n",
    "```\n",
    "\n",
    "### Starting Jupter Notebooks on your computer\n",
    "Open a terminal, navigate to the directory you want to work from then type `jupter notebook`\n",
    "\n",
    "\n",
    "\n",
    "\n"
   ]
  },
  {
   "cell_type": "markdown",
   "metadata": {},
   "source": [
    "# References\n",
    "\n",
    "[Jupyter Dashboard Walkthrough](https://365datascience.com/the-jupyter-dashboard-a-walkthrough/)\n",
    "\n",
    "[Jupyter Notebook Manual](https://jupyter.readthedocs.io/en/latest/running.html#running)\n",
    "\n",
    "[Getting Started With Jupyter Notebook](https://medium.com/codingthesmartway-com-blog/getting-started-with-jupyter-notebook-for-python-4e7082bd5d46)\n",
    "\n",
    "[Markdown Cheatsheet](https://github.com/adam-p/markdown-here/wiki/Markdown-Cheatsheet)\n",
    "\n",
    "[Convert jupyter notebook to slides](https://github.com/datitran/jupyter2slides)"
   ]
  },
  {
   "cell_type": "code",
   "execution_count": null,
   "metadata": {
    "collapsed": true
   },
   "outputs": [],
   "source": []
  }
 ],
 "metadata": {
  "kernelspec": {
   "display_name": "Python 3",
   "language": "python",
   "name": "python3"
  },
  "language_info": {
   "codemirror_mode": {
    "name": "ipython",
    "version": 3
   },
   "file_extension": ".py",
   "mimetype": "text/x-python",
   "name": "python",
   "nbconvert_exporter": "python",
   "pygments_lexer": "ipython3",
   "version": "3.6.3"
  }
 },
 "nbformat": 4,
 "nbformat_minor": 2
}
