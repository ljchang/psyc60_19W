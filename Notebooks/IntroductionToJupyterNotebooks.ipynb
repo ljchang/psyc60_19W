{
 "cells": [
  {
   "cell_type": "markdown",
   "metadata": {},
   "source": [
    "# Lab 1 Goals\n",
    "\n",
    "1. Connect your laptop to your personal dartfs and psych60 dartfs space\n",
    "\n",
    "2. Log into [jupyter.dartmouth.edu](https://jupyter.dartmouth.edu/)\n",
    "\n",
    "3. Create link to access Psych60 data from jupyterhub\n",
    "\n",
    "4. Add modules so we can use MRI-specific software on the server\n",
    "\n",
    "5. Run a test notebook"
   ]
  },
  {
   "cell_type": "markdown",
   "metadata": {},
   "source": [
    "# Dartfs\n",
    "\n",
    "Data storage: We will host most of our data and tutorials for the class on dartfs. You have a home directory The instructions below are for accessing your home space. If you are enrolled in the class you *should* be authorized to access the Psych 60 space. Please let us know if that is not the case.\n",
    "\n",
    "[Accessing dartfs on a mac](https://tech.dartmouth.edu/itc/services-support/help-yourself/knowledge-base/access-dartfs-macintosh)\n",
    "\n",
    "[Accessing dartfs on a pc](https://tech.dartmouth.edu/itc/services-support/help-yourself/knowledge-base/access-dartfs-windows)\n",
    "\n",
    "RC Linux systems:      /dartfs/rc/lab/P/Psych60\n",
    "\n",
    "Mac Finder path:  smb://dartfs.dartmouth.edu/rc/lab/P/Psych60\n",
    "\n",
    "Windows UNC path:     \\\\dartfs.dartmouth.edu\\rc\\lab\\P\\Psych60\n",
    "\n",
    "Please see the email you recieved to determine the location of your home directory"
   ]
  },
  {
   "cell_type": "markdown",
   "metadata": {},
   "source": [
    "# Introduction to Jupyter Notebooks\n",
    "\n",
    "Jupyter notebooks are a great way to have your code and programs then have results showup inline in a web browser. Work for this class will be done in Jupyter notebooks so you can reference what you have done, see the results and someone else could redo it in the future, similar to a typical lab notebook.\n",
    "\n",
    "Rather than writing and re-writing an entire program, you can write lines of code and run them one at a time. Then, if you need to make a change, you can go back and make your edit and rerun the program again, all in the same window. In our specific case, we are going to use [jupyterhub](https://jupyterhub.readthedocs.io/en/stable/) which lets several people access the same computer and data at the same time through a web browser. \n",
    "\n",
    "Finally, you can view examples and share your work with the world very easily through [nbviewer](https://nbviewer.jupyter.org)."
   ]
  },
  {
   "cell_type": "markdown",
   "metadata": {},
   "source": [
    "## Using Jupyter Notebooks on a server hosted by Dartmouth\n",
    "\n",
    "If you use [our server](https://jupyter.dartmouth.edu/) then all analyses you run will be performed on a server deep in the basement of a building on campus. This is great because you can start an analysis and let it run, checking in on the the results later by reconnecting to the server and opening the notebook you were running. The downside of this setup is that you will be sharing processing power with others, which may lead to some forced coffee breaks.\n",
    "\n",
    "[jupyter.dartmouth.edu](https://jupyter.dartmouth.edu/)\n",
    "\n",
    "Log in with your DID and it should bring you to your home dartfs space."
   ]
  },
  {
   "cell_type": "markdown",
   "metadata": {},
   "source": [
    "## Once you have logged in\n",
    "You should see something like this:\n",
    "\n",
    "<img src=\"Images/JupyterHub.png\"></img>\n",
    "\n",
    "although you will likely not have much in there unless you have used your dartfs space before.\n",
    "\n"
   ]
  },
  {
   "cell_type": "markdown",
   "metadata": {},
   "source": [
    "## Connecting to Psych60 lab space from within Jupyterhub\n",
    "Click on New, then Terminal\n",
    "<img src=\"Images/NewTerminal.png\"></img>\n",
    "\n",
    "You now should have something that looks like this:\n",
    "<img src=\"Images/Terminal.png\"></img>\n",
    "\n",
    "Type `pwd` and keep track of this somewhere. This is the path to your home directory.\n"
   ]
  },
  {
   "cell_type": "code",
   "execution_count": null,
   "metadata": {
    "collapsed": true
   },
   "outputs": [],
   "source": [
    "module initadd fsl\n",
    "module initadd freesurfer\n",
    "module initadd afni\n",
    "module initadd ants\n",
    "module initadd spm"
   ]
  },
  {
   "cell_type": "markdown",
   "metadata": {},
   "source": [
    "Next type"
   ]
  },
  {
   "cell_type": "code",
   "execution_count": null,
   "metadata": {
    "collapsed": false
   },
   "outputs": [],
   "source": [
    "ln -s /dartfs/rc/lab/P/Psych60 /dartfs-hpc/rc/home/yourletter/yourDID/Psych60"
   ]
  },
  {
   "cell_type": "markdown",
   "metadata": {},
   "source": [
    "Now type `ls -alF`\n",
    "You should see a link that looks like this:\n",
    "<img src=\"Images/Softlink.png\"></img>\n",
    "\n"
   ]
  },
  {
   "cell_type": "markdown",
   "metadata": {},
   "source": [
    "Close this terminal and go back to [our server](https://jupyter.dartmouth.edu/)\n",
    "\n",
    "You should see a Psych60 link under the `Files` tab. If you click on it you **should** be brought to the data and tutorial folder.\n",
    "<img src=\"Images/Psych60Dir.png\"></img>\n",
    "\n",
    "You will find a variety of tutorial notebooks in here along with data that we will use for our first few labs."
   ]
  },
  {
   "cell_type": "markdown",
   "metadata": {},
   "source": [
    "Next click on the `running` tab, the `Shutdown` next to terminal. This is how we will close sessions that we are done with.\n",
    "\n",
    "Next logout then login again (top right)\n",
    "\n",
    "Once you have logged in again open a terminal and type\n",
    "\n",
    "`module list`\n",
    "\n",
    "You should see something like this:\n",
    "\n",
    "<img src=\"Images/Modules.png\"></img>\n",
    "\n",
    "Most of the analyses that we perform will be using programs written in python."
   ]
  },
  {
   "cell_type": "markdown",
   "metadata": {},
   "source": [
    "# Alternative\n",
    "\n",
    "If you use jupyter notebooks on your own computer then you own computer will be doing the processing. If you put your computer to sleep then processing will stop. It will also likely slow down other programs you are using on your computer. I would recommend installing it on your own computer so you can learn more about how to use it, or if you are interested in tinkering with the software or you happen to have a particularly fast/newer computer.\n",
    "\n",
    "Please contact Professor Huckins if you want any assistance doing this.\n",
    "\n",
    "## Installing Jupyter Notebooks on your own computer\n",
    "\n",
    "1. Install python (I recommend [Acaconda](https://www.continuum.io/downloads))\n",
    "\n",
    "Alternative 1: Install jupyter notebook (it comes with Anaconda)\n",
    "\n",
    "```\n",
    "pip3 install jupyter\n",
    "```\n",
    "\n",
    "Alternative 2: If you already have python installed:\n",
    "\n",
    "```\n",
    "pip3 install --upgrade pip\n",
    "```\n",
    "\n",
    "```\n",
    "pip3 install jupyter\n",
    "```\n",
    "\n",
    "### Starting Jupter Notebooks on your computer\n",
    "Open a terminal, navigate to the directory you want to work from then type `jupter notebook`\n",
    "\n",
    "\n",
    "\n",
    "\n"
   ]
  },
  {
   "cell_type": "markdown",
   "metadata": {},
   "source": [
    "# Opening a notebook on the server\n",
    "\n",
    "Click on Files, then the psych60 link you created, then naviate to nipype_tutorial/notebooks and click on introduction_jupyter-notebook.ipynb\n",
    "\n",
    "This will be the first notebook we will work with today. Save this into your class folder before running anything (File, Save As)\n",
    "\n",
    "<img src=\"Images/SaveAs.png\"></img>\n"
   ]
  },
  {
   "cell_type": "markdown",
   "metadata": {},
   "source": [
    "Again, please make sure you change the DID to your own and add a filename, ie IntroductionToJupyterNotebooks.ipynb"
   ]
  },
  {
   "cell_type": "markdown",
   "metadata": {},
   "source": [
    "# References\n",
    "\n",
    "[Jupyter Dashboard Walkthrough](https://365datascience.com/the-jupyter-dashboard-a-walkthrough/)\n",
    "\n",
    "[Jupyter Notebook Manual](https://jupyter.readthedocs.io/en/latest/running.html#running)\n",
    "\n",
    "[Getting Started With Jupyter Notebook](https://medium.com/codingthesmartway-com-blog/getting-started-with-jupyter-notebook-for-python-4e7082bd5d46)\n",
    "\n",
    "[Markdown Cheatsheet](https://github.com/adam-p/markdown-here/wiki/Markdown-Cheatsheet)\n",
    "\n",
    "[Convert jupyter notebook to slides](https://github.com/datitran/jupyter2slides)"
   ]
  },
  {
   "cell_type": "code",
   "execution_count": null,
   "metadata": {
    "collapsed": true
   },
   "outputs": [],
   "source": []
  }
 ],
 "metadata": {
  "anaconda-cloud": {},
  "kernelspec": {
   "display_name": "Python [default]",
   "language": "python",
   "name": "python3"
  },
  "language_info": {
   "codemirror_mode": {
    "name": "ipython",
    "version": 3
   },
   "file_extension": ".py",
   "mimetype": "text/x-python",
   "name": "python",
   "nbconvert_exporter": "python",
   "pygments_lexer": "ipython3",
   "version": "3.6.3"
  }
 },
 "nbformat": 4,
 "nbformat_minor": 2
}
