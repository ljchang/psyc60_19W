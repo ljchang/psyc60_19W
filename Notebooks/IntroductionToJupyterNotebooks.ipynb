{
 "cells": [
  {
   "cell_type": "markdown",
   "metadata": {},
   "source": [
    "# Introduction to Jupyter Notebooks\n",
    "\n",
    "Jupyter notebooks are a great way to have your code and programs then have results showup inline in a web browser. Work for this class will be done in Jupyter notebooks so you can reference what you have done, see the results and someone else could redo it in the future, similar to a typical lab notebook.\n",
    "\n",
    "Rather than writing and re-writing an entire program, you can write lines of code and run them one at a time. Then, if you need to make a change, you can go back and make your edit and rerun the program again, all in the same window. In our specific case, we are going to use [jupyterhub](https://jupyterhub.readthedocs.io/en/stable/) which lets several people access the same computer and data at the same time through a web browser. \n",
    "\n",
    "Finally, you can view others work and share your work with the world very easily through [nbviewer](https://nbviewer.jupyter.org)."
   ]
  },
  {
   "cell_type": "code",
   "execution_count": null,
   "metadata": {
    "collapsed": true
   },
   "outputs": [],
   "source": []
  },
  {
   "cell_type": "markdown",
   "metadata": {},
   "source": []
  },
  {
   "cell_type": "code",
   "execution_count": null,
   "metadata": {
    "collapsed": true
   },
   "outputs": [],
   "source": []
  },
  {
   "cell_type": "code",
   "execution_count": null,
   "metadata": {
    "collapsed": true
   },
   "outputs": [],
   "source": []
  },
  {
   "cell_type": "markdown",
   "metadata": {},
   "source": []
  },
  {
   "cell_type": "markdown",
   "metadata": {},
   "source": [
    "# Options for Using Jupyter Notebooks:\n",
    "\n",
    "If you use [our server](https://jupyter.dartmouth.edu/) then all analyses you run will be performed on a server deep in the basement of a building on campus. This is great because you can start an analysis and let it run, checking in on the the results later by reconnecting to the server and opening the notebook you were running. The downside of this setup is that you will be sharing processing power with others, which may lead to some coffee breaks.\n",
    "\n",
    "If you use jupyter notebooks on your own computer then you own computer will be doing the processing. If you put your computer to sleep then processing will stop. It will also likely slow down other programs you are using on your computer. I would recommend installing it on your own computer so you can learn more about how to use it, or if you are interested in tinkering with the software or you happen to have a particularly fast/newer computer.\n",
    "\n",
    "\n",
    "\n",
    "## Using Jupyter Notebooks on a server hosted by Dartmouth\n",
    "[Our server](https://jupyter.dartmouth.edu/)\n",
    "\n",
    "Log in with your DID and it should bring you to your home dartfs space.\n",
    "\n",
    "## Installing Jupyter Notebooks on your own computer\n",
    "\n",
    "1. Install python (I recommend [Acaconda](https://www.continuum.io/downloads))\n",
    "\n",
    "2. Install jupyter notebook\n",
    "```\n",
    "pip3 install jupyter\n",
    "```\n",
    "\n",
    "\n",
    "\n",
    "Alternative: If you already have python installed:\n",
    "\n",
    "```\n",
    "pip3 install --upgrade pip\n",
    "```\n",
    "\n",
    "```\n",
    "pip3 install jupyter\n",
    "```\n",
    "\n",
    "\n",
    "\n"
   ]
  },
  {
   "cell_type": "markdown",
   "metadata": {},
   "source": [
    "# References\n",
    "\n",
    "[Jupyter Dashboard Walkthrough](https://365datascience.com/the-jupyter-dashboard-a-walkthrough/)\n",
    "\n",
    "[Jupyter Notebook Manual](https://jupyter.readthedocs.io/en/latest/running.html#running)\n",
    "\n",
    "[Getting Started With Jupyter Notebook](https://medium.com/codingthesmartway-com-blog/getting-started-with-jupyter-notebook-for-python-4e7082bd5d46)\n",
    "\n",
    "[Markdown Cheatsheet](https://github.com/adam-p/markdown-here/wiki/Markdown-Cheatsheet)\n",
    "\n",
    "[Convert jupyter notebook to slides](https://github.com/datitran/jupyter2slides)"
   ]
  },
  {
   "cell_type": "code",
   "execution_count": null,
   "metadata": {
    "collapsed": true
   },
   "outputs": [],
   "source": []
  }
 ],
 "metadata": {
  "kernelspec": {
   "display_name": "Python 3",
   "language": "python",
   "name": "python3"
  },
  "language_info": {
   "codemirror_mode": {
    "name": "ipython",
    "version": 3
   },
   "file_extension": ".py",
   "mimetype": "text/x-python",
   "name": "python",
   "nbconvert_exporter": "python",
   "pygments_lexer": "ipython3",
   "version": "3.6.3"
  }
 },
 "nbformat": 4,
 "nbformat_minor": 2
}
